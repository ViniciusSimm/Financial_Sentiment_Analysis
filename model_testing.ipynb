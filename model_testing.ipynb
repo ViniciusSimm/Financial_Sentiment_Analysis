{
 "cells": [
  {
   "cell_type": "code",
   "execution_count": 2,
   "metadata": {},
   "outputs": [],
   "source": [
    "import pandas as pd\n",
    "from sklearn.feature_extraction.text import CountVectorizer\n",
    "from sklearn.feature_extraction.text import TfidfVectorizer\n",
    "from wordcloud import WordCloud\n",
    "import matplotlib.pyplot as plt\n",
    "from nltk import tokenize\n",
    "import nltk\n",
    "from gensim.models import KeyedVectors\n",
    "from string import punctuation\n",
    "import unidecode\n",
    "from sklearn.model_selection import train_test_split\n",
    "from sklearn.linear_model import LogisticRegression"
   ]
  },
  {
   "cell_type": "code",
   "execution_count": 18,
   "metadata": {},
   "outputs": [],
   "source": [
    "colnames=['output','text']\n",
    "df = pd.read_csv('all-data.csv', names=colnames, header=None)"
   ]
  },
  {
   "cell_type": "code",
   "execution_count": 19,
   "metadata": {},
   "outputs": [],
   "source": [
    "all_sentences = [text for text in df.text]\n",
    "words = ' '.join(all_sentences)"
   ]
  },
  {
   "cell_type": "code",
   "execution_count": 22,
   "metadata": {},
   "outputs": [],
   "source": [
    "stop_words = nltk.corpus.stopwords.words('english')\n",
    "token_space = tokenize.WhitespaceTokenizer()\n",
    "token_punct = tokenize.WordPunctTokenizer()"
   ]
  },
  {
   "cell_type": "code",
   "execution_count": 23,
   "metadata": {},
   "outputs": [],
   "source": [
    "puncts = list()\n",
    "for punct in punctuation:\n",
    "    puncts.append(punct)\n",
    "punct_and_stopwords = puncts + stop_words"
   ]
  },
  {
   "cell_type": "code",
   "execution_count": 26,
   "metadata": {},
   "outputs": [],
   "source": [
    "sentences_after_stopwords = list()\n",
    "\n",
    "for sentence in df.text:\n",
    "    new_sentence = list()\n",
    "    words_from_sentence = token_space.tokenize(sentence)\n",
    "    for word in words_from_sentence:\n",
    "        if word not in stop_words:\n",
    "            new_sentence.append(word)\n",
    "    sentences_after_stopwords.append(\" \".join(new_sentence))"
   ]
  },
  {
   "cell_type": "code",
   "execution_count": 37,
   "metadata": {},
   "outputs": [],
   "source": [
    "sentences_after_stopwords_puncts = list()\n",
    "\n",
    "for sentence in sentences_after_stopwords:\n",
    "    for punct_to_change in punctuation:\n",
    "        sentence = sentence.replace(punct_to_change,\"\")\n",
    "    sentences_after_stopwords_puncts.append(sentence)"
   ]
  },
  {
   "cell_type": "code",
   "execution_count": 47,
   "metadata": {},
   "outputs": [],
   "source": [
    "sentences_after_stopwords_puncts_lower = list()\n",
    "\n",
    "for sentence in sentences_after_stopwords_puncts:\n",
    "    sentence = sentence.lower()\n",
    "    sentences_after_stopwords_puncts_lower.append(sentence)"
   ]
  },
  {
   "cell_type": "code",
   "execution_count": 30,
   "metadata": {},
   "outputs": [],
   "source": [
    "# sentences_after_stopwords_puncts = list()\n",
    "\n",
    "# for sentence in sentences_after_stopwords:\n",
    "#     new_sentence = list()\n",
    "#     words_from_sentence = token_punct.tokenize(sentence)\n",
    "#     # print(words_from_sentence)\n",
    "#     for word in words_from_sentence:\n",
    "#         if word not in puncts:\n",
    "#             new_sentence.append(word)\n",
    "#     # print(new_sentence)\n",
    "#     sentences_after_stopwords_puncts.append(\" \".join(new_sentence))"
   ]
  },
  {
   "cell_type": "code",
   "execution_count": 41,
   "metadata": {},
   "outputs": [],
   "source": [
    "stop_words_no_accent = list()\n",
    "for word in stop_words:\n",
    "    for punct_to_change in punctuation:\n",
    "        word = word.replace(punct_to_change,\"\")\n",
    "    stop_words_no_accent.append(word)"
   ]
  },
  {
   "cell_type": "code",
   "execution_count": 49,
   "metadata": {},
   "outputs": [],
   "source": [
    "sentences_after_stopwords_puncts_lower_stopwords = list()\n",
    "\n",
    "for sentence in sentences_after_stopwords_puncts_lower:\n",
    "    new_sentence = list()\n",
    "    words_from_sentence = token_space.tokenize(sentence)\n",
    "    for word in words_from_sentence:\n",
    "        if word not in stop_words_no_accent:\n",
    "            new_sentence.append(word)\n",
    "    sentences_after_stopwords_puncts_lower_stopwords.append(\" \".join(new_sentence))"
   ]
  },
  {
   "cell_type": "code",
   "execution_count": 59,
   "metadata": {},
   "outputs": [],
   "source": [
    "sentences_after_stopwords_puncts_lower_stopwords_number = list()\n",
    "\n",
    "for sentence in sentences_after_stopwords_puncts_lower_stopwords:\n",
    "    new_sentence = list()\n",
    "    words_from_sentence = token_space.tokenize(sentence)\n",
    "    for word in words_from_sentence:\n",
    "        if not word.isnumeric():\n",
    "            new_sentence.append(word)\n",
    "        else:\n",
    "            new_sentence.append(\"0\")\n",
    "    sentences_after_stopwords_puncts_lower_stopwords_number.append(\" \".join(new_sentence))"
   ]
  }
 ],
 "metadata": {
  "interpreter": {
   "hash": "051f523ea69bc1770ecd2306c10409abac68aa2062faba780e671356775dd235"
  },
  "kernelspec": {
   "display_name": "Python 3.8.8 ('base')",
   "language": "python",
   "name": "python3"
  },
  "language_info": {
   "codemirror_mode": {
    "name": "ipython",
    "version": 3
   },
   "file_extension": ".py",
   "mimetype": "text/x-python",
   "name": "python",
   "nbconvert_exporter": "python",
   "pygments_lexer": "ipython3",
   "version": "3.8.8"
  },
  "orig_nbformat": 4
 },
 "nbformat": 4,
 "nbformat_minor": 2
}
