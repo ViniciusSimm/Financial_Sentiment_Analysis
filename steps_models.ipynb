{
 "cells": [
  {
   "cell_type": "code",
   "execution_count": 3,
   "metadata": {},
   "outputs": [],
   "source": [
    "import pandas as pd\n",
    "from sklearn.feature_extraction.text import CountVectorizer\n",
    "from sklearn.feature_extraction.text import TfidfVectorizer\n",
    "from wordcloud import WordCloud\n",
    "import matplotlib.pyplot as plt\n",
    "from nltk import tokenize\n",
    "import nltk\n",
    "from gensim.models import KeyedVectors\n",
    "from string import punctuation\n",
    "import unidecode\n",
    "from sklearn.model_selection import train_test_split\n",
    "from sklearn.linear_model import LogisticRegression\n",
    "from sklearn import metrics"
   ]
  },
  {
   "cell_type": "markdown",
   "metadata": {},
   "source": [
    "Preparing Data"
   ]
  },
  {
   "cell_type": "code",
   "execution_count": 4,
   "metadata": {},
   "outputs": [],
   "source": [
    "colnames=['output','text']\n",
    "df = pd.read_csv('all-data.csv', names=colnames, header=None)"
   ]
  },
  {
   "cell_type": "code",
   "execution_count": 5,
   "metadata": {},
   "outputs": [],
   "source": [
    "all_sentences = [text for text in df.text]\n",
    "words = ' '.join(all_sentences)"
   ]
  },
  {
   "cell_type": "code",
   "execution_count": 6,
   "metadata": {},
   "outputs": [],
   "source": [
    "stop_words = nltk.corpus.stopwords.words('english')\n",
    "token_space = tokenize.WhitespaceTokenizer()\n",
    "token_punct = tokenize.WordPunctTokenizer()"
   ]
  },
  {
   "cell_type": "code",
   "execution_count": 7,
   "metadata": {},
   "outputs": [],
   "source": [
    "puncts = list()\n",
    "for punct in punctuation:\n",
    "    puncts.append(punct)\n",
    "punct_and_stopwords = puncts + stop_words"
   ]
  },
  {
   "cell_type": "code",
   "execution_count": 8,
   "metadata": {},
   "outputs": [],
   "source": [
    "sentences_after_stopwords = list()\n",
    "\n",
    "for sentence in df.text:\n",
    "    new_sentence = list()\n",
    "    words_from_sentence = token_space.tokenize(sentence)\n",
    "    for word in words_from_sentence:\n",
    "        if word not in stop_words:\n",
    "            new_sentence.append(word)\n",
    "    sentences_after_stopwords.append(\" \".join(new_sentence))"
   ]
  },
  {
   "cell_type": "code",
   "execution_count": 9,
   "metadata": {},
   "outputs": [],
   "source": [
    "sentences_after_stopwords_puncts = list()\n",
    "\n",
    "for sentence in sentences_after_stopwords:\n",
    "    for punct_to_change in punctuation:\n",
    "        sentence = sentence.replace(punct_to_change,\"\")\n",
    "    sentences_after_stopwords_puncts.append(sentence)"
   ]
  },
  {
   "cell_type": "code",
   "execution_count": 10,
   "metadata": {},
   "outputs": [],
   "source": [
    "sentences_after_stopwords_puncts_lower = list()\n",
    "\n",
    "for sentence in sentences_after_stopwords_puncts:\n",
    "    sentence = sentence.lower()\n",
    "    sentences_after_stopwords_puncts_lower.append(sentence)"
   ]
  },
  {
   "cell_type": "code",
   "execution_count": 11,
   "metadata": {},
   "outputs": [],
   "source": [
    "# sentences_after_stopwords_puncts = list()\n",
    "\n",
    "# for sentence in sentences_after_stopwords:\n",
    "#     new_sentence = list()\n",
    "#     words_from_sentence = token_punct.tokenize(sentence)\n",
    "#     # print(words_from_sentence)\n",
    "#     for word in words_from_sentence:\n",
    "#         if word not in puncts:\n",
    "#             new_sentence.append(word)\n",
    "#     # print(new_sentence)\n",
    "#     sentences_after_stopwords_puncts.append(\" \".join(new_sentence))"
   ]
  },
  {
   "cell_type": "code",
   "execution_count": 12,
   "metadata": {},
   "outputs": [],
   "source": [
    "stop_words_no_accent = list()\n",
    "for word in stop_words:\n",
    "    for punct_to_change in punctuation:\n",
    "        word = word.replace(punct_to_change,\"\")\n",
    "    stop_words_no_accent.append(word)"
   ]
  },
  {
   "cell_type": "code",
   "execution_count": 13,
   "metadata": {},
   "outputs": [],
   "source": [
    "sentences_after_stopwords_puncts_lower_stopwords = list()\n",
    "\n",
    "for sentence in sentences_after_stopwords_puncts_lower:\n",
    "    new_sentence = list()\n",
    "    words_from_sentence = token_space.tokenize(sentence)\n",
    "    for word in words_from_sentence:\n",
    "        if word not in stop_words_no_accent:\n",
    "            new_sentence.append(word)\n",
    "    sentences_after_stopwords_puncts_lower_stopwords.append(\" \".join(new_sentence))"
   ]
  },
  {
   "cell_type": "code",
   "execution_count": 14,
   "metadata": {},
   "outputs": [],
   "source": [
    "sentences_after_stopwords_puncts_lower_stopwords_number = list()\n",
    "\n",
    "for sentence in sentences_after_stopwords_puncts_lower_stopwords:\n",
    "    new_sentence = list()\n",
    "    words_from_sentence = token_space.tokenize(sentence)\n",
    "    for word in words_from_sentence:\n",
    "        if not word.isnumeric():\n",
    "            new_sentence.append(word)\n",
    "        else:\n",
    "            new_sentence.append(\"0\")\n",
    "    sentences_after_stopwords_puncts_lower_stopwords_number.append(\" \".join(new_sentence))"
   ]
  },
  {
   "cell_type": "markdown",
   "metadata": {},
   "source": [
    "Resampling"
   ]
  },
  {
   "cell_type": "code",
   "execution_count": 15,
   "metadata": {},
   "outputs": [],
   "source": [
    "clean_df = pd.DataFrame({'sentences':sentences_after_stopwords_puncts_lower_stopwords_number,'output':df.output})"
   ]
  },
  {
   "cell_type": "code",
   "execution_count": 16,
   "metadata": {},
   "outputs": [],
   "source": [
    "from imblearn.over_sampling import SMOTE\n",
    "import numpy as np\n",
    "smote = SMOTE(random_state=100)"
   ]
  },
  {
   "cell_type": "code",
   "execution_count": 17,
   "metadata": {},
   "outputs": [],
   "source": [
    "tfidf = TfidfVectorizer(lowercase=False,max_features=600)\n",
    "vector_tfidf = tfidf.fit_transform(sentences_after_stopwords_puncts_lower_stopwords_number)"
   ]
  },
  {
   "cell_type": "code",
   "execution_count": 18,
   "metadata": {},
   "outputs": [
    {
     "data": {
      "text/plain": [
       "negative    2879\n",
       "positive    2879\n",
       "neutral     2879\n",
       "Name: output, dtype: int64"
      ]
     },
     "execution_count": 18,
     "metadata": {},
     "output_type": "execute_result"
    }
   ],
   "source": [
    "X_to_be_transformed = vector_tfidf\n",
    "Y_to_be_transformed = clean_df.output\n",
    "X_resampled, Y_resampled = smote.fit_resample(X_to_be_transformed,Y_to_be_transformed)\n",
    "\n",
    "Y_resampled.value_counts()"
   ]
  },
  {
   "cell_type": "code",
   "execution_count": 19,
   "metadata": {},
   "outputs": [],
   "source": [
    "X_train,X_test,Y_train,Y_test = train_test_split(X_resampled,Y_resampled,random_state = 100,test_size=0.1)"
   ]
  },
  {
   "cell_type": "code",
   "execution_count": 45,
   "metadata": {},
   "outputs": [],
   "source": [
    "logistic_regression = LogisticRegression(solver = 'lbfgs')"
   ]
  },
  {
   "cell_type": "code",
   "execution_count": 46,
   "metadata": {},
   "outputs": [
    {
     "data": {
      "text/plain": [
       "0.7360824742268042"
      ]
     },
     "execution_count": 46,
     "metadata": {},
     "output_type": "execute_result"
    }
   ],
   "source": [
    "logistic_regression.fit(X_train,Y_train)\n",
    "logistic_regression.score(X_test,Y_test)"
   ]
  },
  {
   "cell_type": "markdown",
   "metadata": {},
   "source": [
    "LogisticRegression Model"
   ]
  },
  {
   "cell_type": "code",
   "execution_count": 21,
   "metadata": {},
   "outputs": [],
   "source": [
    "logistic_regression = LogisticRegression(solver = 'lbfgs')"
   ]
  },
  {
   "cell_type": "code",
   "execution_count": 22,
   "metadata": {},
   "outputs": [],
   "source": [
    "X_train,X_test,Y_train,Y_test = train_test_split(vector_tfidf,df.output,random_state = 100,test_size=0.1)"
   ]
  },
  {
   "cell_type": "code",
   "execution_count": 23,
   "metadata": {},
   "outputs": [
    {
     "data": {
      "text/plain": [
       "0.7360824742268042"
      ]
     },
     "execution_count": 23,
     "metadata": {},
     "output_type": "execute_result"
    }
   ],
   "source": [
    "# Score using all data without any transformation\n",
    "logistic_regression.fit(X_train,Y_train)\n",
    "logistic_regression.score(X_test,Y_test)"
   ]
  },
  {
   "cell_type": "code",
   "execution_count": 24,
   "metadata": {},
   "outputs": [
    {
     "name": "stdout",
     "output_type": "stream",
     "text": [
      "Score: 0.7360824742268042\n"
     ]
    }
   ],
   "source": [
    "Y_predicted = list(logistic_regression.predict(X_test))\n",
    "Y_test_list = list(Y_test)\n",
    "\n",
    "cont = 0\n",
    "for i in range(len(Y_test)):\n",
    "    if Y_test_list[i] == Y_predicted[i]:\n",
    "        cont += 1\n",
    "    \n",
    "print(\"Score:\",cont/len(Y_test))"
   ]
  },
  {
   "cell_type": "code",
   "execution_count": 25,
   "metadata": {},
   "outputs": [],
   "source": [
    "# all_words = ' '.join(sentences_after_stopwords_puncts_lower_stopwords_number)\n",
    "# cloud_of_words = WordCloud().generate(all_words)"
   ]
  },
  {
   "cell_type": "code",
   "execution_count": 26,
   "metadata": {},
   "outputs": [],
   "source": [
    "# plt.figure(figsize=(10,8))\n",
    "# plt.imshow(cloud_of_words, interpolation='bilinear')\n",
    "# plt.show()"
   ]
  },
  {
   "cell_type": "code",
   "execution_count": 27,
   "metadata": {},
   "outputs": [
    {
     "name": "stdout",
     "output_type": "stream",
     "text": [
      "['neutral']\n",
      "[[0.08702322 0.61726828 0.2957085 ]]\n",
      "neutral\n"
     ]
    }
   ],
   "source": [
    "print(logistic_regression.predict(X_test[0]))\n",
    "print(logistic_regression.predict_proba(X_test[0]))\n",
    "print(Y_test.iloc[0])"
   ]
  },
  {
   "cell_type": "code",
   "execution_count": 28,
   "metadata": {},
   "outputs": [
    {
     "data": {
      "text/plain": [
       "array([[0.08702322, 0.61726828, 0.2957085 ],\n",
       "       [0.17374482, 0.50210493, 0.32415025],\n",
       "       [0.03438222, 0.85375034, 0.11186744],\n",
       "       ...,\n",
       "       [0.05891035, 0.48268009, 0.45840955],\n",
       "       [0.39217478, 0.30133751, 0.30648771],\n",
       "       [0.28863132, 0.3628201 , 0.34854858]])"
      ]
     },
     "execution_count": 28,
     "metadata": {},
     "output_type": "execute_result"
    }
   ],
   "source": [
    "logistic_regression.predict_proba(X_test)"
   ]
  },
  {
   "cell_type": "code",
   "execution_count": 29,
   "metadata": {},
   "outputs": [
    {
     "data": {
      "text/plain": [
       "array(['negative', 'neutral', 'positive'], dtype=object)"
      ]
     },
     "execution_count": 29,
     "metadata": {},
     "output_type": "execute_result"
    }
   ],
   "source": [
    "logistic_regression.classes_"
   ]
  },
  {
   "cell_type": "markdown",
   "metadata": {},
   "source": [
    "LogisticRegression Testing"
   ]
  },
  {
   "cell_type": "code",
   "execution_count": 30,
   "metadata": {},
   "outputs": [],
   "source": [
    "prob_class = list(logistic_regression.predict_proba(X_test))\n",
    "\n",
    "cont_80 = 0\n",
    "cont = 0\n",
    "new_column = []\n",
    "\n",
    "for line in prob_class:\n",
    "    if line.max() >= 0.800:\n",
    "        position = list(line).index(line.max())\n",
    "        classification = logistic_regression.classes_[position]\n",
    "        cont_80 += 1\n",
    "        new_column.append(classification)\n",
    "    else:\n",
    "        new_column.append('Under 0.8')\n",
    "        "
   ]
  },
  {
   "cell_type": "code",
   "execution_count": 31,
   "metadata": {},
   "outputs": [
    {
     "name": "stdout",
     "output_type": "stream",
     "text": [
      "Qnt: 161\n",
      "Score: 0.9006211180124224\n"
     ]
    }
   ],
   "source": [
    "Y_predicted = list(logistic_regression.predict(X_test))\n",
    "Y_test_list = list(Y_test)\n",
    "\n",
    "cont = 0\n",
    "for i in range(len(Y_test)):\n",
    "    if Y_test_list[i] == new_column[i]:\n",
    "        cont += 1\n",
    "    \n",
    "print(\"Qnt:\",cont_80)\n",
    "print(\"Score:\",cont/cont_80)"
   ]
  },
  {
   "cell_type": "markdown",
   "metadata": {},
   "source": [
    "LogisticRegression Analysing External Phrases"
   ]
  },
  {
   "cell_type": "code",
   "execution_count": 32,
   "metadata": {},
   "outputs": [],
   "source": [
    "sentence_to_transform = [\"The market is bad\"]\n"
   ]
  },
  {
   "cell_type": "code",
   "execution_count": 33,
   "metadata": {},
   "outputs": [],
   "source": [
    "sentences_after_stopwords = list()\n",
    "\n",
    "for sentence in sentence_to_transform:\n",
    "    new_sentence = list()\n",
    "    words_from_sentence = token_space.tokenize(sentence)\n",
    "    for word in words_from_sentence:\n",
    "        if word not in stop_words:\n",
    "            new_sentence.append(word)\n",
    "    sentences_after_stopwords.append(\" \".join(new_sentence))"
   ]
  },
  {
   "cell_type": "code",
   "execution_count": 34,
   "metadata": {},
   "outputs": [],
   "source": [
    "sentences_after_stopwords_puncts = list()\n",
    "\n",
    "for sentence in sentences_after_stopwords:\n",
    "    for punct_to_change in punctuation:\n",
    "        sentence = sentence.replace(punct_to_change,\"\")\n",
    "    sentences_after_stopwords_puncts.append(sentence)"
   ]
  },
  {
   "cell_type": "code",
   "execution_count": 35,
   "metadata": {},
   "outputs": [],
   "source": [
    "sentences_after_stopwords_puncts_lower = list()\n",
    "\n",
    "for sentence in sentences_after_stopwords_puncts:\n",
    "    sentence = sentence.lower()\n",
    "    sentences_after_stopwords_puncts_lower.append(sentence)"
   ]
  },
  {
   "cell_type": "code",
   "execution_count": 36,
   "metadata": {},
   "outputs": [],
   "source": [
    "sentences_after_stopwords_puncts_lower_stopwords = list()\n",
    "\n",
    "for sentence in sentences_after_stopwords_puncts_lower:\n",
    "    new_sentence = list()\n",
    "    words_from_sentence = token_space.tokenize(sentence)\n",
    "    for word in words_from_sentence:\n",
    "        if word not in stop_words_no_accent:\n",
    "            new_sentence.append(word)\n",
    "    sentences_after_stopwords_puncts_lower_stopwords.append(\" \".join(new_sentence))"
   ]
  },
  {
   "cell_type": "code",
   "execution_count": 37,
   "metadata": {},
   "outputs": [],
   "source": [
    "sentences_after_stopwords_puncts_lower_stopwords_number = list()\n",
    "\n",
    "for sentence in sentences_after_stopwords_puncts_lower_stopwords:\n",
    "    new_sentence = list()\n",
    "    words_from_sentence = token_space.tokenize(sentence)\n",
    "    for word in words_from_sentence:\n",
    "        if not word.isnumeric():\n",
    "            new_sentence.append(word)\n",
    "        else:\n",
    "            new_sentence.append(\"0\")\n",
    "    sentences_after_stopwords_puncts_lower_stopwords_number.append(\" \".join(new_sentence))"
   ]
  },
  {
   "cell_type": "code",
   "execution_count": 38,
   "metadata": {},
   "outputs": [
    {
     "name": "stdout",
     "output_type": "stream",
     "text": [
      "['market bad']\n"
     ]
    }
   ],
   "source": [
    "print(sentences_after_stopwords_puncts_lower_stopwords_number)\n",
    "vector_tfidf_sentence = tfidf.transform(sentences_after_stopwords_puncts_lower_stopwords_number)"
   ]
  },
  {
   "cell_type": "code",
   "execution_count": 39,
   "metadata": {},
   "outputs": [
    {
     "name": "stdout",
     "output_type": "stream",
     "text": [
      "['neutral']\n",
      "[[0.09063359 0.72584311 0.1835233 ]]\n"
     ]
    }
   ],
   "source": [
    "print(logistic_regression.predict(vector_tfidf_sentence))\n",
    "print(logistic_regression.predict_proba(vector_tfidf_sentence))"
   ]
  },
  {
   "cell_type": "markdown",
   "metadata": {},
   "source": [
    "Creating a Function to transform the sentence"
   ]
  },
  {
   "cell_type": "code",
   "execution_count": 40,
   "metadata": {},
   "outputs": [],
   "source": [
    "def transformSentence(list_of_sentences):\n",
    "    \n",
    "    sentences_after_stopwords = list()\n",
    "    \n",
    "    for sentence in list_of_sentences:\n",
    "        new_sentence = list()\n",
    "        words_from_sentence = token_space.tokenize(sentence)\n",
    "        for word in words_from_sentence:\n",
    "            if word not in stop_words:\n",
    "                new_sentence.append(word)\n",
    "        sentences_after_stopwords.append(\" \".join(new_sentence))\n",
    "\n",
    "    sentences_after_stopwords_puncts = list()\n",
    "\n",
    "    for sentence in sentences_after_stopwords:\n",
    "        for punct_to_change in punctuation:\n",
    "            sentence = sentence.replace(punct_to_change,\"\")\n",
    "        sentences_after_stopwords_puncts.append(sentence)\n",
    "\n",
    "    sentences_after_stopwords_puncts_lower = list()\n",
    "\n",
    "    for sentence in sentences_after_stopwords_puncts:\n",
    "        sentence = sentence.lower()\n",
    "        sentences_after_stopwords_puncts_lower.append(sentence)\n",
    "\n",
    "    stop_words_no_accent = list()\n",
    "\n",
    "    for word in stop_words:\n",
    "        for punct_to_change in punctuation:\n",
    "            word = word.replace(punct_to_change,\"\")\n",
    "        stop_words_no_accent.append(word)\n",
    "    \n",
    "    sentences_after_stopwords_puncts_lower_stopwords = list()\n",
    "\n",
    "    for sentence in sentences_after_stopwords_puncts_lower:\n",
    "        new_sentence = list()\n",
    "        words_from_sentence = token_space.tokenize(sentence)\n",
    "        for word in words_from_sentence:\n",
    "            if word not in stop_words_no_accent:\n",
    "                new_sentence.append(word)\n",
    "        sentences_after_stopwords_puncts_lower_stopwords.append(\" \".join(new_sentence))\n",
    "\n",
    "    sentences_after_stopwords_puncts_lower_stopwords_number = list()\n",
    "\n",
    "    for sentence in sentences_after_stopwords_puncts_lower_stopwords:\n",
    "        new_sentence = list()\n",
    "        words_from_sentence = token_space.tokenize(sentence)\n",
    "        for word in words_from_sentence:\n",
    "            if not word.isnumeric():\n",
    "                new_sentence.append(word)\n",
    "            else:\n",
    "                new_sentence.append(\"0\")\n",
    "        sentences_after_stopwords_puncts_lower_stopwords_number.append(\" \".join(new_sentence))\n",
    "\n",
    "    return sentences_after_stopwords_puncts_lower_stopwords_number"
   ]
  },
  {
   "cell_type": "code",
   "execution_count": 44,
   "metadata": {},
   "outputs": [
    {
     "data": {
      "text/plain": [
       "['love movie']"
      ]
     },
     "execution_count": 44,
     "metadata": {},
     "output_type": "execute_result"
    }
   ],
   "source": [
    "transformSentence([\"i love this movie!!\"])"
   ]
  },
  {
   "cell_type": "code",
   "execution_count": null,
   "metadata": {},
   "outputs": [],
   "source": []
  }
 ],
 "metadata": {
  "interpreter": {
   "hash": "051f523ea69bc1770ecd2306c10409abac68aa2062faba780e671356775dd235"
  },
  "kernelspec": {
   "display_name": "Python 3.8.8 ('base')",
   "language": "python",
   "name": "python3"
  },
  "language_info": {
   "codemirror_mode": {
    "name": "ipython",
    "version": 3
   },
   "file_extension": ".py",
   "mimetype": "text/x-python",
   "name": "python",
   "nbconvert_exporter": "python",
   "pygments_lexer": "ipython3",
   "version": "3.8.8"
  },
  "orig_nbformat": 4
 },
 "nbformat": 4,
 "nbformat_minor": 2
}
